{
  "nbformat": 4,
  "nbformat_minor": 0,
  "metadata": {
    "colab": {
      "name": "numpy_1.ipynb",
      "provenance": [],
      "collapsed_sections": [],
      "authorship_tag": "ABX9TyOVjvzWrpjPCvwdIi9iOacq",
      "include_colab_link": true
    },
    "kernelspec": {
      "name": "python3",
      "display_name": "Python 3"
    }
  },
  "cells": [
    {
      "cell_type": "markdown",
      "metadata": {
        "id": "view-in-github",
        "colab_type": "text"
      },
      "source": [
        "<a href=\"https://colab.research.google.com/github/anpvikas/ai/blob/main/numpy_1.ipynb\" target=\"_parent\"><img src=\"https://colab.research.google.com/assets/colab-badge.svg\" alt=\"Open In Colab\"/></a>"
      ]
    },
    {
      "cell_type": "code",
      "metadata": {
        "colab": {
          "base_uri": "https://localhost:8080/"
        },
        "id": "VRitnms77SOo",
        "outputId": "d3544f31-c349-4a5a-d82e-f31b9e1a11c9"
      },
      "source": [
        "\r\n",
        "a = [1, 2, 3, 4, 5]\r\n",
        "b = [10, 11, 12, 13, 14]\r\n",
        "\r\n",
        "result = []\r\n",
        "\r\n",
        "for first, second in zip(a, b):\r\n",
        "  result.append(first + second)\r\n",
        "\r\n",
        "result\r\n"
      ],
      "execution_count": 5,
      "outputs": [
        {
          "output_type": "execute_result",
          "data": {
            "text/plain": [
              "[11, 13, 15, 17, 19]"
            ]
          },
          "metadata": {
            "tags": []
          },
          "execution_count": 5
        }
      ]
    },
    {
      "cell_type": "code",
      "metadata": {
        "colab": {
          "base_uri": "https://localhost:8080/"
        },
        "id": "6k_xfia-_wBy",
        "outputId": "7c8dbce6-51f8-4132-94b0-ffe07bb28ed5"
      },
      "source": [
        "import numpy as np\r\n",
        "\r\n",
        "a = np.array([1, 2, 3, 4])\r\n",
        "type(a)\r\n",
        "\r\n",
        "a.dtype\r\n",
        "\r\n",
        "f = np.array([1.1, 2.3, 4.5, 5.6])\r\n",
        "\r\n",
        "f.dtype\r\n",
        "\r\n",
        "# vectorized operation\r\n",
        "a + f\r\n",
        "a / f\r\n",
        "a ** f\r\n",
        "\r\n",
        "\r\n"
      ],
      "execution_count": 12,
      "outputs": [
        {
          "output_type": "execute_result",
          "data": {
            "text/plain": [
              "array([1.00000000e+00, 4.92457765e+00, 1.40296115e+02, 2.35253423e+03])"
            ]
          },
          "metadata": {
            "tags": []
          },
          "execution_count": 12
        }
      ]
    }
  ]
}